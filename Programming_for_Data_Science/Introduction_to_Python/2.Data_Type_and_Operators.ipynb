{
 "cells": [
  {
   "cell_type": "markdown",
   "metadata": {},
   "source": [
    "# Data Types and Operators\n",
    "\n",
    "Welcome to this lesson on Data Types and Operators! You'll learn about:\n",
    "\n",
    "* Data Types: Integers, Floats, Booleans, Strings\n",
    "* Operators: Arithmetic, Assignment, Comparison, Logical\n",
    "* Built-In Functions, Type Conversion\n",
    "* Whitespace and Style Guidelines"
   ]
  },
  {
   "cell_type": "markdown",
   "metadata": {},
   "source": [
    "## Arithmetic Operators\n",
    "\n",
    "Arithmetic operators\n",
    "\n",
    "* \\+ : Addition\n",
    "* \\- : Subtraction\n",
    "* \\* : Multiplication\n",
    "* /  : Division\n",
    "* % : Mod (the remainder after dividing)\n",
    "* ** : Exponentiation (note that ^ does not do this operation, as you might have seen in other languages)\n",
    "* // : Divides and rounds down to the nearest integer"
   ]
  },
  {
   "cell_type": "markdown",
   "metadata": {},
   "source": [
    "## Quiz : Arithmetic Operators\n",
    "\n",
    "### Quiz: Average Electricity Bill\n",
    "\n",
    "It's time to try a calculation in Python!\n",
    "\n",
    "My electricity bills for the last three months have been $23, $32 and $64. What is the average monthly electricity bill over the three month period? Write an expression to calculate the mean, and use print() to view the result."
   ]
  },
  {
   "cell_type": "code",
   "execution_count": 1,
   "metadata": {},
   "outputs": [
    {
     "name": "stdout",
     "output_type": "stream",
     "text": [
      "39.666666666666664\n"
     ]
    }
   ],
   "source": [
    "print((23+32+64)/3)"
   ]
  },
  {
   "cell_type": "markdown",
   "metadata": {},
   "source": [
    "### Quiz: Calculate\n",
    "In this quiz you're going to do some calculations for a tiler. Two parts of a floor need tiling. One part is 9 tiles wide by 7 tiles long, the other is 5 tiles wide by 7 tiles long. Tiles come in packages of 6.\n",
    "\n",
    "1. How many tiles are needed?\n",
    "2. You buy 17 packages of tiles containing 6 tiles each. How many tiles will be left over?"
   ]
  },
  {
   "cell_type": "code",
   "execution_count": 2,
   "metadata": {},
   "outputs": [
    {
     "name": "stdout",
     "output_type": "stream",
     "text": [
      "98\n",
      "4\n"
     ]
    }
   ],
   "source": [
    "# Fill this in with an expression that calculates how many tiles are needed.\n",
    "print(9*7+5*7)\n",
    "\n",
    "# Fill this in with an expression that calculates how many tiles will be left over.\n",
    "print(17*6-(9*7+5*7))"
   ]
  },
  {
   "cell_type": "markdown",
   "metadata": {},
   "source": [
    "https://www.programiz.com/python-programming/operators"
   ]
  },
  {
   "cell_type": "markdown",
   "metadata": {},
   "source": [
    "## Variables and Assignment Operators\n",
    "\n",
    "### Variables\n",
    "\n",
    "    mv_population = 74728\n",
    "\n",
    "Here *mv_population* is a variable, which holds the value of *74728*.\n",
    "\n",
    "This assigns the item on the right to the name on the left.\n",
    "\n",
    "\n",
    "\n",
    "Variable names should be descriptive of the values they hold.\n",
    "\n",
    "There are a few things to watch out for when naming variables in Python.\n",
    ">1. Only use ordinary letters, numbers and underscores in your variable names. They can’t have spaces, and need to start with a letter or underscore.\n",
    ">\n",
    ">2. You can’t use reserved words or built-in identifiers that have important purposes in Python, which you’ll learn about throughout this course. Creating names that are descriptive of the values often will help you avoid using any of these words. A quick table of these words is also available below.\n",
    "\n",
    "\n",
    "#### Keywords in Python programming language\n",
    "\n",
    "\n",
    "|     Keyword    |       in   |    Python      |     programming    |      language   |\n",
    "----------|----------|----------|---------|---------|\n",
    "| False   | class    | finally  | is      | return  |\n",
    "| None    | continue | for      | lambda  | try     |\n",
    "| True    | def      | from     | nonlocal| while   |\n",
    "| and     | del      | global   | not     | with    |\n",
    "| as      | elif     | if       | or      | yield   |\n",
    "| assert  | else     | import   | pass    |         |\n",
    "| break   | except   | in       | raise   |         |\n",
    "\n",
    "\n",
    "\n",
    "\n",
    ">3. The pythonic way to name variables is to use all lowercase letters and underscores to separate words.\n",
    "\n",
    "\n",
    "### Assignment Operators\n",
    "=\n",
    "\n",
    "+=\n",
    "\n",
    "-=\n",
    "\n",
    "\\*="
   ]
  },
  {
   "cell_type": "markdown",
   "metadata": {},
   "source": [
    "## Quiz : Variables and Assignment Operators\n",
    "\n",
    "### Quiz: Assign and Modify Variables\n",
    "\n",
    "Now it's your turn to work with variables.\n",
    "The comments in this quiz (the lines that begin with #) have instructions for creating and modifying variables. \n",
    "After each comment write a line of code that implements the instruction.\n",
    "\n",
    "Note that this code uses scientific notation to define large numbers.\n",
    "4.445e8 is equal to 4.445 * 10 ** 8 which is equal to 444500000.0."
   ]
  },
  {
   "cell_type": "code",
   "execution_count": 3,
   "metadata": {},
   "outputs": [
    {
     "name": "stdout",
     "output_type": "stream",
     "text": [
      "447627500.0\n"
     ]
    }
   ],
   "source": [
    "# The current volume of a water reservoir (in cubic metres)\n",
    "reservoir_volume = 4.445e8\n",
    "# The amount of rainfall from a storm (in cubic metres)\n",
    "rainfall = 5e6\n",
    "\n",
    "# decrease the rainfall variable by 10% to account for runoff\n",
    "rainfall*=0.9\n",
    "# add the rainfall variable to the reservoir_volume variable\n",
    "reservoir_volume+=rainfall\n",
    "# increase reservoir_volume by 5% to account for stormwater that flows\n",
    "# into the reservoir in the days following the storm\n",
    "reservoir_volume*=1.05\n",
    "# decrease reservoir_volume by 5% to account for evaporation\n",
    "reservoir_volume*=0.95\n",
    "# subtract 2.5e5 cubic metres from reservoir_volume to account for water\n",
    "# that's piped to arid regions.\n",
    "reservoir_volume-=2.5e5\n",
    "# print the new value of the reservoir_volume variable\n",
    "print(reservoir_volume)"
   ]
  },
  {
   "cell_type": "markdown",
   "metadata": {},
   "source": [
    "### Quiz: Changing Variable Values\n",
    "\n",
    "How does changing the value of a variable affect another variable that was defined in terms of it? Let's look at an example.\n",
    "\n",
    "We're intentionally not providing a place to execute the code here, because we want to help you practice the important skill of walking through lines of code by hand.\n",
    "\n",
    "Each line of code executes in order, one at a time, with control going from one line to the next."
   ]
  },
  {
   "cell_type": "code",
   "execution_count": 4,
   "metadata": {},
   "outputs": [
    {
     "name": "stdout",
     "output_type": "stream",
     "text": [
      "3.0\n"
     ]
    }
   ],
   "source": [
    "carrots=24\n",
    "rabbits=8\n",
    "crs_per_rab=carrots/rabbits\n",
    "rabbits=12\n",
    "print(crs_per_rab)"
   ]
  },
  {
   "cell_type": "markdown",
   "metadata": {},
   "source": [
    "#### Solution: Changing Variables\n",
    "For the first multiple choice quiz, the correct answer is that the value of crs_per_rab has not changed. That is, it is still 3.0.\n",
    "\n",
    "This is because when a variable is assigned, it is assigned to the value of the expression on the right-hand-side, not to the expression itself. In the line:\n",
    "\n",
    "    crs_per_rab = carrots/rabbits    \n",
    "\n",
    "Python actually did the calculation to evaluate the expression on the right-hand-side, carrots/rabbits, and then assigned the variable crs_per_rab to be the value of that expression. It promptly forgot the formula, only saving the result in the variable.\n",
    "\n",
    "In order to update the value of crs_per_rab to take into account the change in rabbits, we need to run this line again:\n",
    "\n",
    "     crs_per_rab = carrots/rabbits\n",
    "     print(crs_per_rab)    \n",
    "     2.0\n",
    "     \n",
    "That’s the new number of carrots per rabbit after the increase in the number of rabbits. All of our variables have been updated to take this into account."
   ]
  },
  {
   "cell_type": "code",
   "execution_count": 5,
   "metadata": {},
   "outputs": [
    {
     "name": "stdout",
     "output_type": "stream",
     "text": [
      "False\n"
     ]
    }
   ],
   "source": [
    "print(.1+.1+.1==.3)"
   ]
  },
  {
   "cell_type": "markdown",
   "metadata": {},
   "source": [
    "#### PEP8 Guideline\n",
    "\n",
    "https://www.python.org/dev/peps/pep-0008/"
   ]
  },
  {
   "cell_type": "markdown",
   "metadata": {},
   "source": [
    "## Booleans, Comparison Operators, and Logical Operators\n",
    "\n",
    "The bool data type holds one of the values True or False, which are often encoded as 1 or 0, respectively.\n",
    "\n",
    "#### Comparison Operators\n",
    "\n",
    "|Symbol Use Case|\tOperation|\n",
    "----------------|------------|\n",
    "|5 < 3\t|Less Than|\n",
    "|5 > 3\t|Greater Than|\n",
    "|3 <= 3\t|Less Than or Equal To|\n",
    "|3 >= 5\t|Greater Than or Equal To|\n",
    "|3 == 5\t|Equal To|\n",
    "|3 != 5\t|Not Equal To|\n",
    "\n",
    "|Logical Use|Operation|\n",
    "|-----------|---------|\n",
    "|5 < 3 and 5 == 5|and - Evaluates if all provided statements are True|\n",
    "|5 < 3 or 5 == 5|or - Evaluates if at least one of many statements is True|\n",
    "|not 5 < 3|not - Flips the Bool Value|"
   ]
  },
  {
   "cell_type": "markdown",
   "metadata": {},
   "source": [
    "## Quiz : Booleans, Comparison Operators, and Logical Operators\n",
    "\n",
    "### Quiz: Which is denser, Rio or San Francisco?\n",
    "\n",
    "Try comparison operators in this quiz! This code calculates the population densities of Rio de Janeiro and San Francisco.\n",
    "\n",
    "Write code to compare these densities. Is the population of San Francisco more dense than that of Rio de Janeiro? Print True if it is and False if not."
   ]
  },
  {
   "cell_type": "code",
   "execution_count": 6,
   "metadata": {},
   "outputs": [
    {
     "name": "stdout",
     "output_type": "stream",
     "text": [
      "False\n"
     ]
    }
   ],
   "source": [
    "sf_population, sf_area = 864816, 231.89\n",
    "rio_population, rio_area = 6453682, 486.5\n",
    "\n",
    "san_francisco_pop_density = sf_population/sf_area\n",
    "rio_de_janeiro_pop_density = rio_population/rio_area\n",
    "\n",
    "# Write code that prints True if San Francisco is denser than Rio, and False otherwise\n",
    "print(san_francisco_pop_density>rio_de_janeiro_pop_density)"
   ]
  },
  {
   "cell_type": "markdown",
   "metadata": {},
   "source": [
    "## Strings\n",
    "\n",
    "Data type for immutable ordered sequences of charactoers (e.g. letters, numbers, spaces, and symbols)"
   ]
  },
  {
   "cell_type": "markdown",
   "metadata": {},
   "source": [
    "## Quiz : Strings\n",
    "\n",
    "### Quiz: Fix the Quote\n",
    "The line of code in the following quiz will cause a SyntaxError, thanks to the misuse of quotation marks. First run it with Test Run to view the error message. Then resolve the problem so that the quote (from Henry Ford) is correctly assigned to the variable ford_quote.\n",
    "\n",
    "\\+ : combine strings\n",
    "\\* : repeat strings\n",
    "\n",
    "len()\n",
    "> len() is a built-in Python function that returns the length of an object, like a string."
   ]
  },
  {
   "cell_type": "code",
   "execution_count": 7,
   "metadata": {},
   "outputs": [
    {
     "name": "stdout",
     "output_type": "stream",
     "text": [
      "Whether you think you can, or you think you can't--you're right.\n"
     ]
    }
   ],
   "source": [
    "# TODO: Fix this string!\n",
    "ford_quote = 'Whether you think you can, or you think you can\\'t--you\\'re right.'\n",
    "print(ford_quote)"
   ]
  },
  {
   "cell_type": "markdown",
   "metadata": {},
   "source": [
    "### Quiz: Write a Server Log Message\n",
    "In this programming quiz, you’re going to use what you’ve learned about strings to write a logging message for a server.\n",
    "\n",
    "You’ll be provided with example data for a user, the time of their visit and the site they accessed. You should use the variables provided and the techniques you’ve learned to print a log message like this one (with the username, url, and timestamp replaced with values from the appropriate variables):\n",
    "\n",
    "    Yogesh accessed the site http://petshop.com/pets/reptiles/pythons at 16:20.\n",
    "\n",
    "Use the Test Run button to see your results as you work on coding this piece by piece.\n"
   ]
  },
  {
   "cell_type": "code",
   "execution_count": 8,
   "metadata": {},
   "outputs": [
    {
     "name": "stdout",
     "output_type": "stream",
     "text": [
      "Kinari accessed the site http://petshop.com/pets/mammals/cats at 04:50.\n"
     ]
    }
   ],
   "source": [
    "\n",
    "username = \"Kinari\"\n",
    "timestamp = \"04:50\"\n",
    "url = \"http://petshop.com/pets/mammals/cats\"\n",
    "\n",
    "# TODO: print a log message using the variables above.\n",
    "# The message should have the same format as this one:\n",
    "# \"Yogesh accessed the site http://petshop.com/pets/reptiles/pythons at 16:20.\"\n",
    "print(username+\" \"+\"accessed the site\"+\" \"+url+\" at \"+timestamp+\".\")\n"
   ]
  },
  {
   "cell_type": "markdown",
   "metadata": {},
   "source": [
    "### Quiz: len()\n",
    "Use string concatenation and the len() function to find the length of a certain movie star's actual full name. Store that length in the name_length variable. Don't forget that there are spaces in between the different parts of a name!"
   ]
  },
  {
   "cell_type": "code",
   "execution_count": 9,
   "metadata": {},
   "outputs": [
    {
     "name": "stdout",
     "output_type": "stream",
     "text": [
      "True\n"
     ]
    }
   ],
   "source": [
    "given_name = \"William\"\n",
    "middle_names = \"Bradley\"\n",
    "family_name = \"Pitt\"\n",
    "\n",
    "name_length =len(given_name+\" \"+middle_names+\" \"+family_name) #todo: calculate how long this name is\n",
    "\n",
    "# Now we check to make sure that the name fits within the driving license character limit\n",
    "# Nothing you need to do here\n",
    "driving_license_character_limit = 28\n",
    "print(name_length <= driving_license_character_limit)\n"
   ]
  },
  {
   "cell_type": "markdown",
   "metadata": {},
   "source": [
    "## Type And Type Conversion\n",
    "\n",
    "You have seen four data types so far:\n",
    "\n",
    "1. int\n",
    "2. float\n",
    "3. bool\n",
    "4. string\n",
    "\n",
    "type()  :  check the data type of any variable"
   ]
  },
  {
   "cell_type": "markdown",
   "metadata": {},
   "source": [
    "## Quiz : Type and Type Conversion\n",
    "\n",
    "### Quiz: Total Sales\n",
    "In this quiz, you’ll need to change the types of the input and output data in order to get the result you want.\n",
    "\n",
    "Calculate and print the total sales for the week from the data provided. Print out a string of the form \n",
    "\n",
    "    \"This week's total sales: xxx\",\n",
    "where xxx will be the actual total of all the numbers. You’ll need to change the type of the input data in order to calculate that total."
   ]
  },
  {
   "cell_type": "code",
   "execution_count": 10,
   "metadata": {},
   "outputs": [
    {
     "name": "stdout",
     "output_type": "stream",
     "text": [
      "This week's total sales: 529\n"
     ]
    }
   ],
   "source": [
    "mon_sales = \"121\"\n",
    "tues_sales = \"105\"\n",
    "wed_sales = \"110\"\n",
    "thurs_sales = \"98\"\n",
    "fri_sales = \"95\"\n",
    "\n",
    "#TODO: Print a string with this format: This week's total sales: xxx\n",
    "# You will probably need to write some lines of code before the print statement.\n",
    "total=int(mon_sales)+int(tues_sales)+int(wed_sales)+int(thurs_sales)+int(fri_sales)\n",
    "\n",
    "print(\"This week\\'s total sales: \" + str(total))\n"
   ]
  },
  {
   "attachments": {
    "image.png": {
     "image/png": "[encoded data removed]"
    }
   },
   "cell_type": "markdown",
   "metadata": {},
   "source": [
    "## String Methods\n",
    "\n",
    "A method in Python behaves similarly to a function. \n",
    "\n",
    "Methods actually are functions that are called using dot notation.\n",
    "![image.png](attachment:image.png)\n",
    "\n",
    "\n",
    "\n",
    "#### .format()\n",
    "> The number of pairs of curly braces {} you use inside the string is the same as the number of replacements you want to make using the values inside format().\n",
    "\n",
    "\n",
    "#### .split()\n",
    "> This function or method returns a data container called a list that contains the words from the input string\n",
    ">\n",
    ">The split method has two additional arguments (sep and maxsplit).\n",
    ">\n",
    ">The sep argument stands for \"separator\". It can be used to identify how the string should be split up\n",
    ">\n",
    ">The maxsplit argument provides the maximum number of splits"
   ]
  },
  {
   "cell_type": "markdown",
   "metadata": {},
   "source": [
    "## String Methods \n",
    "### Quiz: String Methods Coding Practice\n",
    "Below, we have a string variable that contains the first verse of the poem, If by Rudyard Kipling. Remember, \\n is a special sequence of characters that causes a line break (a new line).\n",
    "\n",
    "    verse = \"If you can keep your head when all about you\\n  Are losing theirs and blaming it on you,\\nIf you can trust yourself when all men doubt you,\\n  But make allowance for their doubting too;\\nIf you can wait and not be tired by waiting,\\n  Or being lied about, don’t deal in lies,\\nOr being hated, don’t give way to hating,\\n  And yet don’t look too good, nor talk too wise:\"\n",
    "\n",
    "Use the code editor below to answer the following questions about verse and use Test Run to check your output in the quiz at the bottom of this page.\n",
    "\n",
    "1. What is the length of the string variable verse?\n",
    "2. What is the index of the first occurrence of the word 'and' in verse?\n",
    "3. What is the index of the last occurrence of the word 'you' in verse?\n",
    "4. What is the count of occurrences of the word 'you' in the verse?"
   ]
  },
  {
   "cell_type": "code",
   "execution_count": 11,
   "metadata": {},
   "outputs": [
    {
     "name": "stdout",
     "output_type": "stream",
     "text": [
      "If you can keep your head when all about you\n",
      "  Are losing theirs and blaming it on you,\n",
      "If you can trust yourself when all men doubt you,\n",
      "  But make allowance for their doubting too;\n",
      "If you can wait and not be tired by waiting,\n",
      "  Or being lied about, don’t deal in lies,\n",
      "Or being hated, don’t give way to hating,\n",
      "  And yet don’t look too good, nor talk too wise:\n",
      "362\n",
      "65\n",
      "186\n",
      "8\n"
     ]
    }
   ],
   "source": [
    "verse = \"If you can keep your head when all about you\\n  Are losing theirs and blaming it on you,\\nIf you can trust yourself when all men doubt you,\\n  But make allowance for their doubting too;\\nIf you can wait and not be tired by waiting,\\n  Or being lied about, don’t deal in lies,\\nOr being hated, don’t give way to hating,\\n  And yet don’t look too good, nor talk too wise:\"\n",
    "print(verse)\n",
    "print(len(verse))\n",
    "print(verse.find('and'))\n",
    "print(verse.rfind('you'))\n",
    "print(verse.count('you'))\n",
    "# Use the appropriate functions and methods to answer the questions above\n",
    "# Bonus: practice using .format() to output your answers in descriptive messages!"
   ]
  },
  {
   "cell_type": "markdown",
   "metadata": {},
   "source": [
    "# DEBUG\n",
    "\n",
    "## Understanding Common Error Messages\n",
    "There are many different error messages that you can receive in Python, and learning how to interpret what they're telling you can be very helpful. Here are some common ones for starters:\n",
    "\n",
    "### * \"ZeroDivisionError: division by zero.\" \n",
    "This is an error message that you saw earlier in this lesson. What did this error message indicate to us? You can look back in the Quiz: Arithmetic Operators section to review it if needed.\n",
    "### * \"SyntaxError: unexpected EOF while parsing\"\n",
    "Take a look at the two lines of code below. Executing these lines produces this syntax error message - do you see why?\n",
    "\n",
    "    greeting = \"hello\"\n",
    "    print(greeting.upper\n",
    "This message is often produced when you have accidentally left out something, like a parenthesis. The message is saying it has unexpectedly reached the end of file (\"EOF\") and it still didn't find that right parenthesis. This can easily happen with code syntax involving pairs, like beginning and ending quotes also.\n",
    "\n",
    "### * \"TypeError: len() takes exactly one argument (0 given)\" \n",
    "This kind of message could be given for many functions, like len in this case, if I accidentally do not include the required number of arguments when I'm calling a function, as below. This message tells me how many arguments the function requires (one in this case), compared with how many I gave it (0). I meant to use len(chars) to count the number of characters in this long word, but I forgot the argument.\n",
    "\n",
    "    chars = \"supercalifragilisticexpialidocious\"\n",
    "    len()\n",
    "There are other kinds of error messages that you'll certainly begin experiencing soon in your Python work. Learning what they mean and how to address them will help you debug your code. You might keep an ongoing page of notes on them.\n",
    "\n",
    "### Search for Your Error Message\n",
    "Software developers like to share their problems and solutions with each other on the web, so using Google search, or searching in StackOverflow, or searching in Udacity's Knowledge forum are all good ways to get ideas on how to address a particular error message you're getting.\n",
    "\n",
    "* Copy and paste the error message into your web browser search tab, or in Knowledge, and see what others suggest about what might be causing it.\n",
    "* You can copy and paste the whole error message, with or without quotes around it.\n",
    "* Or you can search using just key words from the error message or situation you're facing, along with some other helpful words that describe your context, like Python and Mac.\n",
    "\n",
    "### Use Print Statements to Help Debugging\n",
    "Adding print statements temporarily into your code can help you see which code lines have been executed before the error occurs, and see the values of any variables that might be important. This approach to debugging can also be helpful even if you're not receiving an error message, but things just aren't working the way you want.\n",
    "\n",
    "We'll suggest particular occasions to use this approach in upcoming helpful places in this course."
   ]
  }
 ],
 "metadata": {
  "kernelspec": {
   "display_name": "Python 3",
   "language": "python",
   "name": "python3"
  },
  "language_info": {
   "codemirror_mode": {
    "name": "ipython",
    "version": 3
   },
   "file_extension": ".py",
   "mimetype": "text/x-python",
   "name": "python",
   "nbconvert_exporter": "python",
   "pygments_lexer": "ipython3",
   "version": "3.6.7"
  }
 },
 "nbformat": 4,
 "nbformat_minor": 2
}
