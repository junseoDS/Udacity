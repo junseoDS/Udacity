{
 "cells": [
  {
   "cell_type": "markdown",
   "metadata": {},
   "source": [
    "## Advanced Topics\n",
    "\n",
    "### Iterators and Generators\n",
    "\n",
    "* Iterator \n",
    "> An object that presents a stream of data\n",
    ">\n",
    ">This is different from a list, which is also an iterable, but is not an iterator because it is not a stream of data.\n",
    "\n",
    "\n",
    "* Generator\n",
    "> A Function that creats an iterator\n",
    "\n",
    "> yield : This allows the function to return values one at a time, and start where it left off each time it’s called."
   ]
  },
  {
   "cell_type": "markdown",
   "metadata": {},
   "source": [
    "### Quiz : Iterators and Generators\n",
    "\n",
    "#### Quiz: Implement my_enumerate\n",
    "\n",
    "Write your own generator function that works like the built-in function enumerate.\n",
    "\n",
    "Calling the function like this:\n",
    "\n",
    "    lessons = [\"Why Python Programming\", \"Data Types and Operators\", \"Control Flow\", \"Functions\", \"Scripting\"]\n",
    "    \n",
    "    for i, lesson in my_enumerate(lessons, 1):\n",
    "        print(\"Lesson {}: {}\".format(i, lesson))\n",
    "\n",
    "should output:\n",
    "\n",
    "    Lesson 1: Why Python Programming\n",
    "    Lesson 2: Data Types and Operators\n",
    "    Lesson 3: Control Flow\n",
    "    Lesson 4: Functions\n",
    "    Lesson 5: Scripting"
   ]
  },
  {
   "cell_type": "code",
   "execution_count": 152,
   "metadata": {},
   "outputs": [
    {
     "name": "stdout",
     "output_type": "stream",
     "text": [
      "Lesson 1: Why Python Programming\n",
      "Lesson 2: Data Types and Operators\n",
      "Lesson 3: Control Flow\n",
      "Lesson 4: Functions\n",
      "Lesson 5: Scripting\n"
     ]
    }
   ],
   "source": [
    "lessons = [\"Why Python Programming\", \"Data Types and Operators\", \"Control Flow\", \"Functions\", \"Scripting\"]\n",
    "\n",
    "def my_enumerate(iterable, start=0):\n",
    "    for lesson in iterable:\n",
    "        \n",
    "        yield start,lesson\n",
    "        start+=1\n",
    "    # Implement your generator function here\n",
    "\n",
    "\n",
    "for i, lesson in my_enumerate(lessons, 1):\n",
    "    print(\"Lesson {}: {}\".format(i, lesson))"
   ]
  },
  {
   "cell_type": "markdown",
   "metadata": {},
   "source": [
    "### Quiz: Chunker\n",
    "If you have an iterable that is too large to fit in memory in full (e.g., when dealing with large files), being able to take and use chunks of it at a time can be very valuable.\n",
    "\n",
    "Implement a generator function, chunker, that takes in an iterable and yields a chunk of a specified size at a time.\n",
    "\n",
    "Calling the function like this:\n",
    "\n",
    "    for chunk in chunker(range(25), 4):\n",
    "        print(list(chunk))\n",
    "\n",
    "should output:\n",
    "\n",
    "    [0, 1, 2, 3]\n",
    "    [4, 5, 6, 7]\n",
    "    [8, 9, 10, 11]\n",
    "    [12, 13, 14, 15]\n",
    "    [16, 17, 18, 19]\n",
    "    [20, 21, 22, 23]\n",
    "    [24]"
   ]
  },
  {
   "cell_type": "code",
   "execution_count": 153,
   "metadata": {},
   "outputs": [
    {
     "name": "stdout",
     "output_type": "stream",
     "text": [
      "[0, 1, 2, 3]\n",
      "[4, 5, 6, 7]\n",
      "[8, 9, 10, 11]\n",
      "[12, 13, 14, 15]\n",
      "[16, 17, 18, 19]\n",
      "[20, 21, 22, 23]\n",
      "[24]\n"
     ]
    }
   ],
   "source": [
    "def chunker(iterable, size):\n",
    "    for i in range(len(iterable)//size+1):\n",
    "        yield iterable[i*size:(i+1)*size]\n",
    "        \n",
    "    # Implement function here\n",
    "\n",
    "\n",
    "for chunk in chunker(range(25), 4):\n",
    "    print(list(chunk))"
   ]
  },
  {
   "cell_type": "code",
   "execution_count": null,
   "metadata": {},
   "outputs": [],
   "source": []
  }
 ],
 "metadata": {
  "kernelspec": {
   "display_name": "Python 3",
   "language": "python",
   "name": "python3"
  },
  "language_info": {
   "codemirror_mode": {
    "name": "ipython",
    "version": 3
   },
   "file_extension": ".py",
   "mimetype": "text/x-python",
   "name": "python",
   "nbconvert_exporter": "python",
   "pygments_lexer": "ipython3",
   "version": "3.6.7"
  }
 },
 "nbformat": 4,
 "nbformat_minor": 2
}
