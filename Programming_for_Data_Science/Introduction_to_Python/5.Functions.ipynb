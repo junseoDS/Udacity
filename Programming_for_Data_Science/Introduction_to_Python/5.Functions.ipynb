{
 "cells": [
  {
   "cell_type": "markdown",
   "metadata": {},
   "source": [
    "# Functions\n",
    "## Introduction\n",
    "Welcome to this lesson on Functions! You'll learn about:\n",
    "\n",
    "* Defining Functions\n",
    "* Variable Scope\n",
    "* Documentation\n",
    "* Lambda Expressions\n",
    "* Iterators and Generators\n",
    "\n",
    "You can think about functions as a way to take what you have already learned how to do, and put it in a holder that allows you to use it over and over again in an easy to use container.\n"
   ]
  },
  {
   "cell_type": "markdown",
   "metadata": {},
   "source": [
    "## Defining Functions\n",
    "\n",
    "    def cylinder_volume(height, radius):\n",
    "        pi = 3.14159\n",
    "        return height * pi * radius ** 2\n",
    "\n",
    "After defining the cylinder_volume function, we can call the function like this.\n",
    "\n",
    "    cylinder_volume(10, 3)\n",
    "\n",
    "This is called a *function call* statement.\n",
    "\n",
    "#### Function Header\n",
    "Let's start with the function header, which is the first line of a function definition.\n",
    "\n",
    "1. The function header always starts with the def keyword, which indicates that this is a function definition.\n",
    "2. Then comes the function name (here, cylinder_volume), which follows the same naming conventions as variables. You can revisit the naming conventions below.\n",
    "3. Immediately after the name are parentheses that may include arguments separated by commas (here, height and radius). Arguments, or parameters, are values that are passed in as inputs when the function is called, and are used in the function body. If a function doesn't take arguments, these parentheses are left empty.\n",
    "4. The header always end with a colon :.\n",
    "\n",
    "#### Function Body\n",
    "The rest of the function is contained in the body, which is where the function does its work.\n",
    "\n",
    "1. The body of a function is the code indented after the header line. Here, it's the two lines that define pi and return the volume.\n",
    "2. Within this body, we can refer to the argument variables and define new variables, which can only be used within these indented lines.\n",
    "3. The body will often include a return statement, which is used to send back an output value from the function to the statement that called the function. A return statement consists of the return keyword followed by an expression that is evaluated to get the output value for the function. If there is no return statement, the function simply returns None.\n",
    "\n",
    "Below, you'll find a code editor where you can experiment with this.\n",
    "\n",
    "#### Naming Conventions for Functions\n",
    "Function names follow the same naming conventions as variables.\n",
    "\n",
    "1. Only use ordinary letters, numbers and underscores in your function names. They can’t have spaces, and need to start with a letter or underscore.\n",
    "2. You can’t use reserved words or built-in identifiers that have important purposes in Python, which you’ll learn about throughout this course. A list of Python reserved words is described here.\n",
    "3. Try to use descriptive names that can help readers understand what the function does.\n",
    "\n",
    "\n",
    "### Default Argments\n",
    "\n",
    "We can add default arguments in a function to have default values for parameters that are unspecified in a function call\n",
    "\n",
    "    def cylinder_volume(height, radius=5):\n",
    "        pi = 3.14159\n",
    "        return height * pi * radius ** 2\n",
    "        \n",
    "We are passing values to our arguments by position. \n",
    "\n",
    "It is possible to pass values in two ways - by position and by name. \n",
    "\n",
    "Each of these function calls are evaluated the same way.\n",
    "\n"
   ]
  },
  {
   "cell_type": "markdown",
   "metadata": {},
   "source": [
    "## Quiz : Defining Functions\n",
    "### Lots of Practice\n",
    "An excellent resource for putting your skills to use is to join communities like the one at HackerRank. Here you can work through tons of problems at your own pace! Once you master writing functions, you will be ready to build full applications using Python.\n",
    "\n",
    "### Quiz: Population Density Function\n",
    "Write a function named population_density that takes two arguments, population and land_area, and returns a population density calculated from those values. I've included two test cases that you can use to verify that your function works correctly. Once you've written your function, use the Test Run button to test your code."
   ]
  },
  {
   "cell_type": "code",
   "execution_count": null,
   "metadata": {},
   "outputs": [
    {
     "name": "stdout",
     "output_type": "stream",
     "text": [
      "expected result: 10, actual result: 10.0\n",
      "expected result: 7123.6902801, actual result: 7123.690280065897\n"
     ]
    }
   ],
   "source": [
    "# write your function here\n",
    "def population_density(population,land_area):\n",
    "    return population/land_area\n",
    "\n",
    "# test cases for your function\n",
    "test1 = population_density(10, 1)\n",
    "expected_result1 = 10\n",
    "print(\"expected result: {}, actual result: {}\".format(expected_result1, test1))\n",
    "\n",
    "test2 = population_density(864816, 121.4)\n",
    "expected_result2 = 7123.6902801\n",
    "print(\"expected result: {}, actual result: {}\".format(expected_result2, test2))"
   ]
  },
  {
   "cell_type": "markdown",
   "metadata": {},
   "source": [
    "### Quiz: readable_timedelta\n",
    "Write a function named readable_timedelta. The function should take one argument, an integer days, and return a string that says how many weeks and days that is. For example, calling the function and printing the result like this:\n",
    "\n",
    "    print(readable_timedelta(10))\n",
    "\n",
    "should output the following:\n",
    "\n",
    "    1 week(s) and 3 day(s)."
   ]
  },
  {
   "cell_type": "code",
   "execution_count": null,
   "metadata": {},
   "outputs": [
    {
     "name": "stdout",
     "output_type": "stream",
     "text": [
      "1 week(s) and 3 day(s).\n"
     ]
    }
   ],
   "source": [
    "# write your function here\n",
    "def readable_timedelta(days):\n",
    "    week=days//7\n",
    "    day=days%7\n",
    "    return \"{} week(s) and {} day(s).\".format(week,day)\n",
    "\n",
    "# test your function\n",
    "print(readable_timedelta(10))"
   ]
  },
  {
   "cell_type": "markdown",
   "metadata": {},
   "source": [
    "## Variable Scope\n",
    "\n",
    "Variable scope refers to which parts of a program a variable can be referenced, or used, from.\n",
    "\n",
    "\n",
    "It's important to consider scope when using variables in functions. If a variable is created inside a function, it can only be used within that function. Accessing it outside that function is not possible.\n",
    "\n",
    "#### local scope\n",
    "    def some_function():\n",
    "        word = \"hello\"\n",
    "\n",
    "    def another_function():\n",
    "        word = \"goodbye\"\n",
    "        \n",
    "    \n",
    "#### global scope\n",
    "\n",
    "    word = \"hello\"\n",
    "\n",
    "    def some_function():\n",
    "        print(word)\n",
    "\n",
    "    some_function()"
   ]
  },
  {
   "cell_type": "markdown",
   "metadata": {},
   "source": [
    "## Documentation\n",
    "\n",
    "Documentation is used to make your code easier to understand and use. Functions are especially readable because they often use documentation strings, or docstrings. Docstrings are a type of comment used to explain the purpose of a function, and how it should be used. Here's a function for population density with a docstring.\n",
    "\n",
    "    def population_density(population, land_area):\n",
    "        \"\"\"Calculate the population density of an area. \"\"\"\n",
    "        return population / land_area"
   ]
  },
  {
   "cell_type": "markdown",
   "metadata": {},
   "source": [
    "## Lambda Expressions\n",
    "\n",
    "You can use lambda expressions to create anonymous functions. That is, functions that don’t have a name. They are helpful for creating quick functions that aren’t needed later in your code. This can be especially useful for higher order functions, or functions that take in other functions as arguments."
   ]
  },
  {
   "cell_type": "markdown",
   "metadata": {},
   "source": [
    "### Components of a Lambda Function\n",
    "1. The lambda keyword is used to indicate that this is a lambda expression.\n",
    "2. Following lambda are one or more arguments for the anonymous function separated by commas, followed by a colon :. Similar to functions, the way the arguments are named in a lambda expression is arbitrary.\n",
    "3. Last is an expression that is evaluated and returned in this function. This is a lot like an expression you might see as a return statement in a function.\n",
    "\n",
    "With this structure, lambda expressions aren’t ideal for complex functions, but can be very useful for short, simple functions."
   ]
  },
  {
   "cell_type": "markdown",
   "metadata": {},
   "source": [
    "## Quiz : Lambda Expression\n",
    "\n",
    "### Quiz: Lambda with Map\n",
    "map() is a higher-order built-in function that takes a function and iterable as inputs, and returns an iterator that applies the function to each element of the iterable. The code below uses map() to find the mean of each list in numbers to create the list averages. Give it a test run to see what happens.\n",
    "\n",
    "Rewrite this code to be more concise by replacing the mean function with a lambda expression defined within the call to map()."
   ]
  },
  {
   "cell_type": "code",
   "execution_count": null,
   "metadata": {},
   "outputs": [
    {
     "name": "stdout",
     "output_type": "stream",
     "text": [
      "[57.0, 58.2, 50.6, 27.2]\n",
      "[57.0, 58.2, 50.6, 27.2]\n"
     ]
    }
   ],
   "source": [
    "numbers = [\n",
    "              [34, 63, 88, 71, 29],\n",
    "              [90, 78, 51, 27, 45],\n",
    "              [63, 37, 85, 46, 22],\n",
    "              [51, 22, 34, 11, 18]\n",
    "           ]\n",
    "\n",
    "def mean(num_list):\n",
    "    return sum(num_list) / len(num_list)\n",
    "\n",
    "averages = list(map(mean, numbers))\n",
    "print(averages)\n",
    "\n",
    "avg = list(map(lambda x: sum(x)/len(x),numbers))\n",
    "print(avg)"
   ]
  },
  {
   "cell_type": "markdown",
   "metadata": {},
   "source": [
    "### Quiz: Lambda with Filter\n",
    "filter() is a higher-order built-in function that takes a function and iterable as inputs and returns an iterator with the elements from the iterable for which the function returns True. The code below uses filter() to get the names in cities that are fewer than 10 characters long to create the list short_cities. Give it a test run to see what happens.\n",
    "\n",
    "Rewrite this code to be more concise by replacing the is_short function with a lambda expression defined within the call to filter()."
   ]
  },
  {
   "cell_type": "code",
   "execution_count": null,
   "metadata": {},
   "outputs": [
    {
     "name": "stdout",
     "output_type": "stream",
     "text": [
      "['Chicago', 'Denver', 'Boston']\n",
      "['Chicago', 'Denver', 'Boston']\n"
     ]
    }
   ],
   "source": [
    "cities = [\"New York City\", \"Los Angeles\", \"Chicago\", \"Mountain View\", \"Denver\", \"Boston\"]\n",
    "\n",
    "def is_short(name):\n",
    "    return len(name) < 10\n",
    "\n",
    "short_cities = list(filter(is_short, cities))\n",
    "print(short_cities)\n",
    "\n",
    "short = list(filter(lambda x: len(x)<10,cities))\n",
    "print(short)"
   ]
  }
 ],
 "metadata": {
  "kernelspec": {
   "display_name": "Python 3",
   "language": "python",
   "name": "python3"
  },
  "language_info": {
   "codemirror_mode": {
    "name": "ipython",
    "version": 3
   },
   "file_extension": ".py",
   "mimetype": "text/x-python",
   "name": "python",
   "nbconvert_exporter": "python",
   "pygments_lexer": "ipython3",
   "version": "3.6.7"
  }
 },
 "nbformat": 4,
 "nbformat_minor": 2
}
