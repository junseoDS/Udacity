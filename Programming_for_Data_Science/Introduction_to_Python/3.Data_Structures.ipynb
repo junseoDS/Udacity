{
 "cells": [
  {
   "cell_type": "markdown",
   "metadata": {},
   "source": [
    "# Data Structures\n",
    "\n",
    "Welcome to this lesson on Data Structures! You'll learn about:\n",
    "\n",
    "* Types of Data Structures: Lists, Tuples, Sets, Dictionaries, Compound Data Structures\n",
    "* Operators: Membership, Identity\n",
    "* Built-In Functions or Methods\n",
    "\n",
    "## List \n",
    "> A data type for mutable ordered sequences of elements\n",
    "\n",
    "> When using slicing, it is important to remember that the lower index is inclusive and the upper index is exclusive.\n",
    "\n",
    "### Are you in OR not in?\n",
    "Use in and not in to return a bool of whether an element exists within our list, or if one string is a substring of another.\n",
    "\n",
    "### Mutability and Order\n",
    "Mutability is about whether or not we can change an object once it has been created. If an object (like a list or string) can be changed (like a list can), then it is called mutable. However, if an object cannot be changed with creating a completely new object (like strings), then the object is considered immutable.\n",
    "\n",
    "\n",
    "There are two things to keep in mind for each of the data types you are using:\n",
    "\n",
    "1. Are they mutable?\n",
    "2. Are they ordered?\n",
    "\n",
    "\n",
    "## List Methods\n",
    "\n",
    "#### len()\n",
    " returns how many elements are in a list.\n",
    " \n",
    "#### max()\n",
    " returns the greatest element of the list\n",
    "\n",
    "#### min()\n",
    " returns the smallest element in a list.\n",
    " \n",
    "#### sorted()\n",
    " returns a copy of a list in order from smallest to largest, leaving the list unchanged.\n",
    "\n",
    "#### join()\n",
    "  takes a list of strings as an argument, and returns a string consisting of the list elements joined by a separator string.\n",
    "  \n",
    "#### append()\n",
    " adds an element to the end of a list.\n",
    "\n"
   ]
  },
  {
   "cell_type": "markdown",
   "metadata": {},
   "source": [
    "## Quiz : List and Membership Operators\n",
    "\n",
    "### Quiz: List Indexing\n",
    "Use list indexing to determine how many days are in a particular month based on the integer variable month, and store that value in the integer variable num_days. For example, if month is 8, num_days should be set to 31, since the eighth month, August, has 31 days.\n",
    "\n",
    "Remember to account for zero-based indexing!"
   ]
  },
  {
   "cell_type": "code",
   "execution_count": 12,
   "metadata": {},
   "outputs": [
    {
     "name": "stdout",
     "output_type": "stream",
     "text": [
      "31\n"
     ]
    }
   ],
   "source": [
    "month = 8\n",
    "days_in_month = [31,28,31,30,31,30,31,31,30,31,30,31]\n",
    "\n",
    "# use list indexing to determine the number of days in month\n",
    "\n",
    "num_days=days_in_month[month-1]\n",
    "print(num_days)"
   ]
  },
  {
   "cell_type": "markdown",
   "metadata": {},
   "source": [
    "### Quiz: Slicing Lists\n",
    "Select the three most recent dates from this list using list slicing notation. Hint: negative indexes work in slices!"
   ]
  },
  {
   "cell_type": "code",
   "execution_count": 13,
   "metadata": {},
   "outputs": [
    {
     "name": "stdout",
     "output_type": "stream",
     "text": [
      "['November 13, 2012', 'March 20, 2015', 'March 9, 2016']\n"
     ]
    }
   ],
   "source": [
    "eclipse_dates = ['June 21, 2001', 'December 4, 2002', 'November 23, 2003',\n",
    "                 'March 29, 2006', 'August 1, 2008', 'July 22, 2009',\n",
    "                 'July 11, 2010', 'November 13, 2012', 'March 20, 2015',\n",
    "                 'March 9, 2016']\n",
    "                 \n",
    "                 \n",
    "# TODO: Modify this line so it prints the last three elements of the list\n",
    "print(eclipse_dates[-3:])"
   ]
  },
  {
   "cell_type": "markdown",
   "metadata": {},
   "source": [
    "## Tuples\n",
    "A data type for immutable ordered sequences of elements.\n",
    "\n",
    "    location = (13.4125, 103.866667)\n",
    "    print(\"Latitude:\", location[0])\n",
    "    print(\"Longitude:\", location[1])\n",
    "\n",
    "####  tuple unpacking.\n",
    "assigning variables from content of the tupe dimensions\n",
    "\n",
    "    dimensions = 52, 40, 100\n",
    "    length, width, height = dimensions\n",
    "    print(\"The dimensions are {} x {} x {}\".format(length, width, height))\n",
    "    "
   ]
  },
  {
   "cell_type": "markdown",
   "metadata": {},
   "source": [
    "## Set\n",
    "A data type for mutable unordered collenctions of unique elemments\n",
    "\n",
    "    numbers = [1, 2, 6, 3, 1, 1, 6]\n",
    "    unique_nums = set(numbers)\n",
    "    print(unique_nums)\n",
    "\n",
    "This would output:\n",
    "\n",
    "    {1, 2, 3, 6}"
   ]
  },
  {
   "cell_type": "markdown",
   "metadata": {},
   "source": [
    "## Dictionaries and Identity Operators\n",
    "### Dictionary\n",
    "A data type for mutable objercts that store mappings of unique keys to values.\n",
    "\n",
    "    elements = {\"hydrogen\": 1, \"helium\": 2, \"carbon\": 6}\n",
    "    \n",
    "### Identity Operators\n",
    "\n",
    "|Keyword|Operator |\n",
    "|-------|-----------|\n",
    "|is|\tevaluates if both sides have the same identity|\n",
    "|is not|\tevaluates if both sides have different identities|\n",
    "\n",
    "\n",
    "    n = elements.get(\"dilithium\")\n",
    "    print(n is None)\n",
    "    print(n is not None)\n",
    "\n",
    "This would output:\n",
    "\n",
    "    True\n",
    "    False\n",
    "    \n",
    "    \n",
    "    \n",
    "### get with defalut value\n",
    "get() looks up values in a dictionary \n",
    "\n",
    "    >>> elements.get('dilithium')\n",
    "    None\n",
    "    >>> elements['dilithium']\n",
    "    KeyError: 'dilithium'\n",
    "    >>> elements.get('kryptonite', 'There\\'s no such element!')\n",
    "    \"There's no such element!\"\n",
    "\n",
    "## Quiz : Dictionaries and Identity Operators\n",
    "### Quiz: Define a Dictionary\n",
    "Define a dictionary named population that contains this data:\n",
    "\n",
    "|Keys|\tValues|\n",
    "|-----|------|\n",
    "|Shanghai|\t17.8|\n",
    "|Istanbul|\t13.3|\n",
    "|Karachi|\t13.0|\n",
    "|Mumbai|\t12.5|"
   ]
  },
  {
   "cell_type": "markdown",
   "metadata": {},
   "source": [
    "    ## Compound Data Structures\n",
    "\n",
    "    elements = {\"hydrogen\": {\"number\": 1,\n",
    "                             \"weight\": 1.00794,\n",
    "                             \"symbol\": \"H\"},\n",
    "                  \"helium\": {\"number\": 2,\n",
    "                             \"weight\": 4.002602,\n",
    "                             \"symbol\": \"He\"}}\n",
    "\n",
    "\n",
    "\n",
    "\n",
    "    helium = elements[\"helium\"]  # get the helium dictionary\n",
    "    hydrogen_weight = elements[\"hydrogen\"][\"weight\"]  # get hydrogen's weight\n",
    "\n",
    "\n",
    "\n",
    "    oxygen = {\"number\":8,\"weight\":15.999,\"symbol\":\"O\"}  # create a new oxygen dictionary \n",
    "    elements[\"oxygen\"] = oxygen  # assign 'oxygen' as a key to the elements dictionary\n",
    "    print('elements = ', elements)\n",
    "    \n",
    "Output is:\n",
    "\n",
    "    elements =  {\"hydrogen\": {\"number\": 1,\n",
    "                              \"weight\": 1.00794,\n",
    "                              \"symbol\": 'H'},\n",
    "                   \"helium\": {\"number\": 2,\n",
    "                              \"weight\": 4.002602,\n",
    "                              \"symbol\": \"He\"}, \n",
    "                   \"oxygen\": {\"number\": 8, \n",
    "                              \"weight\": 15.999, \n",
    "                              \"symbol\": \"O\"}}\n"
   ]
  },
  {
   "cell_type": "code",
   "execution_count": 1,
   "metadata": {},
   "outputs": [],
   "source": [
    "# Define a Dictionary, population,\n",
    "# that provides information\n",
    "# on the world's largest cities.\n",
    "# The key is the name of a city\n",
    "# (a string), and the associated\n",
    "# value is its population in\n",
    "# millions of people.\n",
    "\n",
    "#   Key     |   Value\n",
    "# Shanghai  |   17.8\n",
    "# Istanbul  |   13.3\n",
    "# Karachi   |   13.0\n",
    "# Mumbai    |   12.5\n",
    "\n",
    "population = {'Shanghai':17.8, 'Istanbul':13.3,'Karachi':13.0,'Mumbai':12.5}\n"
   ]
  },
  {
   "cell_type": "markdown",
   "metadata": {},
   "source": [
    "## Practice Question\n",
    "The following questions are based on the same text you saw in the last lesson, the first verse of the poem If by Rudyard Kipling. We've converted all letters to lowercase, removed punctuation marks from the text, and stored this modified text in the string variable verse.\n",
    "\n",
    "### Quiz: Count Unique Words\n",
    "Your task for this quiz is to find the number of unique words in the text. In the code editor below, complete these three steps to get your answer.\n",
    "\n",
    "1. Split verse into a list of words. Hint: You can use a string method you learned in the previous lesson.\n",
    "\n",
    "2. Convert the list into a data structure that would keep only the unique elements  from the list.\n",
    "\n",
    "3. Print the length of the container."
   ]
  },
  {
   "cell_type": "code",
   "execution_count": 14,
   "metadata": {},
   "outputs": [
    {
     "name": "stdout",
     "output_type": "stream",
     "text": [
      "if you can keep your head when all about you are losing theirs and blaming it on you   if you can trust yourself when all men doubt you     but make allowance for their doubting too   if you can wait and not be tired by waiting      or being lied about  don’t deal in lies   or being hated  don’t give way to hating      and yet don’t look too good  nor talk too wise \n",
      "\n",
      "['if', 'you', 'can', 'keep', 'your', 'head', 'when', 'all', 'about', 'you', 'are', 'losing', 'theirs', 'and', 'blaming', 'it', 'on', 'you', 'if', 'you', 'can', 'trust', 'yourself', 'when', 'all', 'men', 'doubt', 'you', 'but', 'make', 'allowance', 'for', 'their', 'doubting', 'too', 'if', 'you', 'can', 'wait', 'and', 'not', 'be', 'tired', 'by', 'waiting', 'or', 'being', 'lied', 'about', 'don’t', 'deal', 'in', 'lies', 'or', 'being', 'hated', 'don’t', 'give', 'way', 'to', 'hating', 'and', 'yet', 'don’t', 'look', 'too', 'good', 'nor', 'talk', 'too', 'wise'] \n",
      "\n",
      "{'about', 'it', 'don’t', 'to', 'but', 'wait', 'head', 'way', 'hating', 'keep', 'wise', 'yet', 'give', 'you', 'talk', 'be', 'doubt', 'yourself', 'your', 'being', 'can', 'waiting', 'tired', 'in', 'lies', 'trust', 'all', 'by', 'if', 'when', 'lied', 'good', 'doubting', 'too', 'or', 'are', 'deal', 'on', 'make', 'losing', 'men', 'not', 'nor', 'look', 'and', 'hated', 'their', 'for', 'blaming', 'theirs', 'allowance'} \n",
      "\n",
      "51 \n",
      "\n"
     ]
    }
   ],
   "source": [
    "verse = \"if you can keep your head when all about you are losing theirs and blaming it on you   if you can trust yourself when all men doubt you     but make allowance for their doubting too   if you can wait and not be tired by waiting      or being lied about  don’t deal in lies   or being hated  don’t give way to hating      and yet don’t look too good  nor talk too wise\"\n",
    "print(verse, '\\n')\n",
    "\n",
    "# split verse into list of words\n",
    "verse_list = verse.split()\n",
    "print(verse_list, '\\n')\n",
    "\n",
    "# convert list to a data structure that stores unique elements\n",
    "verse_set =set(verse_list)\n",
    "print(verse_set, '\\n')\n",
    "\n",
    "# print the number of unique words\n",
    "num_unique = len(verse_set)\n",
    "print(num_unique, '\\n')"
   ]
  },
  {
   "cell_type": "markdown",
   "metadata": {},
   "source": [
    "### Quiz : Verse Dictionary\n",
    "\n",
    "n the code editor below, you'll find a dictionary containing the unique words of verse stored as keys and the number of times they appear in verse stored as values. Use this dictionary to answer the following questions. Submit these answers in the quiz below the code editor.\n",
    "\n",
    "Try to answer these using code, rather than inspecting the dictionary manually!\n",
    "\n",
    "1. How many unique words are in verse_dict?\n",
    "2. Is the key \"breathe\" in verse_dict?\n",
    "3. What is the first element in the list created when verse_dict is sorted by keys?\n",
    "\n",
    "Hint: Use the appropriate dictionary method to get a list of its keys, and then sort that list. Use this list of keys to answer the next two questions as well.\n",
    "4. Which key (word) has the highest value in verse_dict?"
   ]
  },
  {
   "cell_type": "code",
   "execution_count": 15,
   "metadata": {},
   "outputs": [
    {
     "name": "stdout",
     "output_type": "stream",
     "text": [
      "{'if': 3, 'you': 6, 'can': 3, 'keep': 1, 'your': 1, 'head': 1, 'when': 2, 'all': 2, 'about': 2, 'are': 1, 'losing': 1, 'theirs': 1, 'and': 3, 'blaming': 1, 'it': 1, 'on': 1, 'trust': 1, 'yourself': 1, 'men': 1, 'doubt': 1, 'but': 1, 'make': 1, 'allowance': 1, 'for': 1, 'their': 1, 'doubting': 1, 'too': 3, 'wait': 1, 'not': 1, 'be': 1, 'tired': 1, 'by': 1, 'waiting': 1, 'or': 2, 'being': 2, 'lied': 1, \"don't\": 3, 'deal': 1, 'in': 1, 'lies': 1, 'hated': 1, 'give': 1, 'way': 1, 'to': 1, 'hating': 1, 'yet': 1, 'look': 1, 'good': 1, 'nor': 1, 'talk': 1, 'wise': 1} \n",
      "\n",
      "51\n",
      "False\n",
      "about\n",
      "yourself\n"
     ]
    }
   ],
   "source": [
    "verse_dict =  {'if': 3, 'you': 6, 'can': 3, 'keep': 1, 'your': 1, 'head': 1, 'when': 2, 'all': 2, 'about': 2, 'are': 1, 'losing': 1, 'theirs': 1, 'and': 3, 'blaming': 1, 'it': 1, 'on': 1, 'trust': 1, 'yourself': 1, 'men': 1, 'doubt': 1, 'but': 1, 'make': 1, 'allowance': 1, 'for': 1, 'their': 1, 'doubting': 1, 'too': 3, 'wait': 1, 'not': 1, 'be': 1, 'tired': 1, 'by': 1, 'waiting': 1, 'or': 2, 'being': 2, 'lied': 1, 'don\\'t': 3, 'deal': 1, 'in': 1, 'lies': 1, 'hated': 1, 'give': 1, 'way': 1, 'to': 1, 'hating': 1, 'yet': 1, 'look': 1, 'good': 1, 'nor': 1, 'talk': 1, 'wise': 1}\n",
    "print(verse_dict, '\\n')\n",
    "\n",
    "# find number of unique keys in the dictionary\n",
    "num_keys = len(verse_dict)\n",
    "print(num_keys)\n",
    "\n",
    "# find whether 'breathe' is a key in the dictionary\n",
    "contains_breathe = \"breathe\" in verse_dict\n",
    "print(contains_breathe)\n",
    "\n",
    "# create and sort a list of the dictionary's keys\n",
    "sorted_keys = sorted(verse_dict.keys())\n",
    "\n",
    "# get the first element in the sorted list of keys\n",
    "print(sorted_keys[0])\n",
    "\n",
    "# find the element with the highest value in the list of keys\n",
    "print(sorted_keys[-1]) "
   ]
  }
 ],
 "metadata": {
  "kernelspec": {
   "display_name": "Python 3",
   "language": "python",
   "name": "python3"
  },
  "language_info": {
   "codemirror_mode": {
    "name": "ipython",
    "version": 3
   },
   "file_extension": ".py",
   "mimetype": "text/x-python",
   "name": "python",
   "nbconvert_exporter": "python",
   "pygments_lexer": "ipython3",
   "version": "3.6.7"
  }
 },
 "nbformat": 4,
 "nbformat_minor": 2
}
